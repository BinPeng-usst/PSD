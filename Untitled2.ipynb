{
 "cells": [
  {
   "cell_type": "code",
   "execution_count": null,
   "id": "d324569e-8150-42d6-b430-ca691fcc4802",
   "metadata": {},
   "outputs": [],
   "source": [
    "import matplotlib.pyplot as plt\n",
    "import matplotlib as mpl\n",
    "import pandas as pd\n",
    "import os\n",
    "\n",
    "# 读取Excel文件中的数据\n",
    "data = pd.read_excel('C:\\Users\\Tongrui\\DesktopBund.xlsx')\n",
    "\n",
    "# 设置中文字体为宋体\n",
    "mpl.rcParams['font.sans-serif'] = ['SimSun']\n",
    "# 设置英文字体为Times New Roman\n",
    "mpl.rcParams['font.family'] = 'Times New Roman'\n",
    "# 设置字体大小为11\n",
    "mpl.rcParams['font.size'] = 11\n",
    "\n",
    "# 创建图形和坐标轴对象，设置图形大小\n",
    "fig, ax = plt.subplots(figsize=(20, 15))\n",
    "\n",
    "# 绘制光滑曲线\n",
    "ax.plot(data['时间(d)'], data['沉降(mm)'], linewidth=1.5)\n",
    "\n",
    "# 设置坐标轴相交在0点\n",
    "ax.spines['left'].set_position('zero')\n",
    "ax.spines['bottom'].set_position('zero')\n",
    "\n",
    "# 设置坐标轴线条宽度为0.5磅\n",
    "for axis in ['top', 'bottom', 'left', 'right']:\n",
    "    ax.spines[axis].set_linewidth(0.5)\n",
    "\n",
    "# 设置坐标轴范围\n",
    "ax.set_xlim(0, data['时间(d)'].iloc[-1])\n",
    "ax.set_ylim(min(data['沉降(mm)']), max(data['沉降(mm)']))\n",
    "\n",
    "# 设置坐标轴标签和数据标签在外侧\n",
    "ax.xaxis.set_tick_params(labeltop=False, labelbottom=True, labelleft=False, labelright=False)\n",
    "ax.yaxis.set_tick_params(labeltop=False, labelbottom=False, labelleft=True, labelright=False)\n",
    "\n",
    "# 保存图形到桌面（根据不同操作系统可能需要调整路径）\n",
    "desktop_path = os.path.join(os.path.expanduser(\"~\"), 'Desktop')\n",
    "plt.savefig(os.path.join(desktop_path, 'graph.jpeg'), format='jpeg')\n",
    "\n",
    "plt.show()"
   ]
  }
 ],
 "metadata": {
  "kernelspec": {
   "display_name": "Python 3 (ipykernel)",
   "language": "python",
   "name": "python3"
  },
  "language_info": {
   "codemirror_mode": {
    "name": "ipython",
    "version": 3
   },
   "file_extension": ".py",
   "mimetype": "text/x-python",
   "name": "python",
   "nbconvert_exporter": "python",
   "pygments_lexer": "ipython3",
   "version": "3.9.0"
  }
 },
 "nbformat": 4,
 "nbformat_minor": 5
}
